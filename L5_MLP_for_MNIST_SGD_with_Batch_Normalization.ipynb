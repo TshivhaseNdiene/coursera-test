{
  "nbformat": 4,
  "nbformat_minor": 0,
  "metadata": {
    "colab": {
      "provenance": [],
      "collapsed_sections": [],
      "authorship_tag": "ABX9TyNWvKKkXMk52WLqDYnkBJrf",
      "include_colab_link": true
    },
    "kernelspec": {
      "name": "python3",
      "display_name": "Python 3"
    },
    "language_info": {
      "name": "python"
    }
  },
  "cells": [
    {
      "cell_type": "markdown",
      "metadata": {
        "id": "view-in-github",
        "colab_type": "text"
      },
      "source": [
        "<a href=\"https://colab.research.google.com/github/TshivhaseNdiene/coursera-test/blob/main/L5_MLP_for_MNIST_SGD_with_Batch_Normalization.ipynb\" target=\"_parent\"><img src=\"https://colab.research.google.com/assets/colab-badge.svg\" alt=\"Open In Colab\"/></a>"
      ]
    },
    {
      "cell_type": "markdown",
      "source": [
        "### MLP for the mnist problem"
      ],
      "metadata": {
        "id": "gpetZoqm1iKZ"
      }
    },
    {
      "cell_type": "code",
      "source": [
        "import tensorflow as tf\n",
        "from tensorflow import keras\n",
        "from tensorflow.keras.datasets import mnist\n",
        "from tensorflow.keras.models import Sequential\n",
        "from tensorflow.keras.layers import Dense\n",
        "from tensorflow.keras.optimizers import SGD\n",
        "import matplotlib.pyplot as plt"
      ],
      "metadata": {
        "id": "BQT8YtGu1l_9"
      },
      "execution_count": 1,
      "outputs": []
    },
    {
      "cell_type": "code",
      "source": [
        "(x_train, y_train), (x_test, y_test) = mnist.load_data()"
      ],
      "metadata": {
        "id": "EfP1Oqp115Uq"
      },
      "execution_count": 2,
      "outputs": []
    },
    {
      "cell_type": "code",
      "source": [
        "x_train = x_train.reshape(60000, 784)\n",
        "x_test = x_test.reshape(10000, 784)\n",
        "x_train = x_train.astype('float32')\n",
        "x_test = x_test.astype('float32')\n",
        "x_train = x_train/255\n",
        "x_test = x_test/255"
      ],
      "metadata": {
        "id": "6KLcca_1H5gZ"
      },
      "execution_count": 3,
      "outputs": []
    },
    {
      "cell_type": "code",
      "source": [
        "batch_size =128\n",
        "num_classes = 10\n",
        "epochs = 100"
      ],
      "metadata": {
        "id": "LI3z_aX4JNDn"
      },
      "execution_count": 4,
      "outputs": []
    },
    {
      "cell_type": "code",
      "source": [
        "y_train = keras.utils.to_categorical(y_train, num_classes)\n",
        "\n",
        "y_test = keras.utils.to_categorical(y_test, num_classes )"
      ],
      "metadata": {
        "id": "pp8sSyItM7Mi"
      },
      "execution_count": 5,
      "outputs": []
    },
    {
      "cell_type": "code",
      "source": [
        "model = Sequential()\n",
        "\n",
        "model.add(Dense(512,\n",
        "                input_shape =(784,),\n",
        "                activation = 'relu',\n",
        "                kernel_initializer = 'he_uniform'))\n",
        "model.add(Dense(10,\n",
        "                activation = 'softmax'))\n",
        "\n",
        "opt = SGD(lr=0.01, momentum=0.9)\n",
        "\n",
        "model.compile(loss='binary_crossentropy',\n",
        "              optimizer=opt,\n",
        "              metrics=['accuracy'])"
      ],
      "metadata": {
        "colab": {
          "base_uri": "https://localhost:8080/"
        },
        "id": "EjvzT5Ul32Xq",
        "outputId": "53894ff7-b148-44b2-9f23-ed0aeeda6573"
      },
      "execution_count": 6,
      "outputs": [
        {
          "output_type": "stream",
          "name": "stderr",
          "text": [
            "/usr/local/lib/python3.7/dist-packages/keras/optimizer_v2/gradient_descent.py:102: UserWarning: The `lr` argument is deprecated, use `learning_rate` instead.\n",
            "  super(SGD, self).__init__(name, **kwargs)\n"
          ]
        }
      ]
    },
    {
      "cell_type": "code",
      "source": [
        "#FIT THE MODEL\n",
        "\n",
        "history = model.fit(x_train,\n",
        "                    y_train,\n",
        "                    validation_data=(x_test, y_test),\n",
        "                    epochs =100,\n",
        "                    verbose=1)"
      ],
      "metadata": {
        "colab": {
          "base_uri": "https://localhost:8080/"
        },
        "id": "Anp7oKc35eaI",
        "outputId": "53fb339c-9a8f-4a30-c7be-05a49926eeb7"
      },
      "execution_count": 7,
      "outputs": [
        {
          "output_type": "stream",
          "name": "stdout",
          "text": [
            "Epoch 1/100\n",
            "1875/1875 [==============================] - 10s 5ms/step - loss: 0.1199 - accuracy: 0.8463 - val_loss: 0.0727 - val_accuracy: 0.9055\n",
            "Epoch 2/100\n",
            "1875/1875 [==============================] - 11s 6ms/step - loss: 0.0671 - accuracy: 0.9082 - val_loss: 0.0574 - val_accuracy: 0.9234\n",
            "Epoch 3/100\n",
            "1875/1875 [==============================] - 8s 4ms/step - loss: 0.0559 - accuracy: 0.9228 - val_loss: 0.0500 - val_accuracy: 0.9331\n",
            "Epoch 4/100\n",
            "1875/1875 [==============================] - 9s 5ms/step - loss: 0.0490 - accuracy: 0.9322 - val_loss: 0.0446 - val_accuracy: 0.9382\n",
            "Epoch 5/100\n",
            "1875/1875 [==============================] - 8s 4ms/step - loss: 0.0440 - accuracy: 0.9390 - val_loss: 0.0407 - val_accuracy: 0.9430\n",
            "Epoch 6/100\n",
            "1875/1875 [==============================] - 9s 5ms/step - loss: 0.0401 - accuracy: 0.9444 - val_loss: 0.0374 - val_accuracy: 0.9476\n",
            "Epoch 7/100\n",
            "1875/1875 [==============================] - 8s 4ms/step - loss: 0.0370 - accuracy: 0.9493 - val_loss: 0.0351 - val_accuracy: 0.9514\n",
            "Epoch 8/100\n",
            "1875/1875 [==============================] - 9s 5ms/step - loss: 0.0343 - accuracy: 0.9535 - val_loss: 0.0331 - val_accuracy: 0.9554\n",
            "Epoch 9/100\n",
            "1875/1875 [==============================] - 8s 4ms/step - loss: 0.0321 - accuracy: 0.9573 - val_loss: 0.0311 - val_accuracy: 0.9565\n",
            "Epoch 10/100\n",
            "1875/1875 [==============================] - 8s 4ms/step - loss: 0.0302 - accuracy: 0.9595 - val_loss: 0.0294 - val_accuracy: 0.9599\n",
            "Epoch 11/100\n",
            "1875/1875 [==============================] - 9s 5ms/step - loss: 0.0285 - accuracy: 0.9619 - val_loss: 0.0280 - val_accuracy: 0.9613\n",
            "Epoch 12/100\n",
            "1875/1875 [==============================] - 8s 4ms/step - loss: 0.0270 - accuracy: 0.9641 - val_loss: 0.0269 - val_accuracy: 0.9644\n",
            "Epoch 13/100\n",
            "1875/1875 [==============================] - 8s 4ms/step - loss: 0.0257 - accuracy: 0.9664 - val_loss: 0.0258 - val_accuracy: 0.9649\n",
            "Epoch 14/100\n",
            "1875/1875 [==============================] - 8s 4ms/step - loss: 0.0245 - accuracy: 0.9682 - val_loss: 0.0249 - val_accuracy: 0.9669\n",
            "Epoch 15/100\n",
            "1875/1875 [==============================] - 8s 4ms/step - loss: 0.0234 - accuracy: 0.9699 - val_loss: 0.0242 - val_accuracy: 0.9674\n",
            "Epoch 16/100\n",
            "1875/1875 [==============================] - 8s 4ms/step - loss: 0.0225 - accuracy: 0.9712 - val_loss: 0.0233 - val_accuracy: 0.9686\n",
            "Epoch 17/100\n",
            "1875/1875 [==============================] - 8s 4ms/step - loss: 0.0216 - accuracy: 0.9725 - val_loss: 0.0225 - val_accuracy: 0.9697\n",
            "Epoch 18/100\n",
            "1875/1875 [==============================] - 8s 4ms/step - loss: 0.0208 - accuracy: 0.9739 - val_loss: 0.0222 - val_accuracy: 0.9703\n",
            "Epoch 19/100\n",
            "1875/1875 [==============================] - 8s 4ms/step - loss: 0.0200 - accuracy: 0.9750 - val_loss: 0.0213 - val_accuracy: 0.9704\n",
            "Epoch 20/100\n",
            "1875/1875 [==============================] - 8s 4ms/step - loss: 0.0193 - accuracy: 0.9759 - val_loss: 0.0211 - val_accuracy: 0.9715\n",
            "Epoch 21/100\n",
            "1875/1875 [==============================] - 8s 4ms/step - loss: 0.0186 - accuracy: 0.9768 - val_loss: 0.0205 - val_accuracy: 0.9723\n",
            "Epoch 22/100\n",
            "1875/1875 [==============================] - 8s 4ms/step - loss: 0.0181 - accuracy: 0.9776 - val_loss: 0.0200 - val_accuracy: 0.9732\n",
            "Epoch 23/100\n",
            "1875/1875 [==============================] - 8s 4ms/step - loss: 0.0175 - accuracy: 0.9787 - val_loss: 0.0196 - val_accuracy: 0.9734\n",
            "Epoch 24/100\n",
            "1875/1875 [==============================] - 8s 4ms/step - loss: 0.0169 - accuracy: 0.9793 - val_loss: 0.0193 - val_accuracy: 0.9738\n",
            "Epoch 25/100\n",
            "1875/1875 [==============================] - 9s 5ms/step - loss: 0.0164 - accuracy: 0.9800 - val_loss: 0.0189 - val_accuracy: 0.9747\n",
            "Epoch 26/100\n",
            "1875/1875 [==============================] - 8s 4ms/step - loss: 0.0160 - accuracy: 0.9811 - val_loss: 0.0185 - val_accuracy: 0.9760\n",
            "Epoch 27/100\n",
            "1875/1875 [==============================] - 8s 4ms/step - loss: 0.0155 - accuracy: 0.9817 - val_loss: 0.0183 - val_accuracy: 0.9758\n",
            "Epoch 28/100\n",
            "1875/1875 [==============================] - 9s 5ms/step - loss: 0.0151 - accuracy: 0.9824 - val_loss: 0.0180 - val_accuracy: 0.9760\n",
            "Epoch 29/100\n",
            "1875/1875 [==============================] - 9s 5ms/step - loss: 0.0147 - accuracy: 0.9828 - val_loss: 0.0178 - val_accuracy: 0.9769\n",
            "Epoch 30/100\n",
            "1875/1875 [==============================] - 9s 5ms/step - loss: 0.0143 - accuracy: 0.9833 - val_loss: 0.0174 - val_accuracy: 0.9772\n",
            "Epoch 31/100\n",
            "1875/1875 [==============================] - 10s 5ms/step - loss: 0.0140 - accuracy: 0.9838 - val_loss: 0.0173 - val_accuracy: 0.9770\n",
            "Epoch 32/100\n",
            "1875/1875 [==============================] - 9s 5ms/step - loss: 0.0136 - accuracy: 0.9842 - val_loss: 0.0170 - val_accuracy: 0.9774\n",
            "Epoch 33/100\n",
            "1875/1875 [==============================] - 9s 5ms/step - loss: 0.0133 - accuracy: 0.9851 - val_loss: 0.0170 - val_accuracy: 0.9776\n",
            "Epoch 34/100\n",
            "1875/1875 [==============================] - 9s 5ms/step - loss: 0.0130 - accuracy: 0.9855 - val_loss: 0.0167 - val_accuracy: 0.9779\n",
            "Epoch 35/100\n",
            "1875/1875 [==============================] - 9s 5ms/step - loss: 0.0126 - accuracy: 0.9858 - val_loss: 0.0164 - val_accuracy: 0.9775\n",
            "Epoch 36/100\n",
            "1875/1875 [==============================] - 8s 4ms/step - loss: 0.0123 - accuracy: 0.9862 - val_loss: 0.0162 - val_accuracy: 0.9780\n",
            "Epoch 37/100\n",
            "1875/1875 [==============================] - 9s 5ms/step - loss: 0.0121 - accuracy: 0.9866 - val_loss: 0.0161 - val_accuracy: 0.9777\n",
            "Epoch 38/100\n",
            "1875/1875 [==============================] - 8s 4ms/step - loss: 0.0118 - accuracy: 0.9867 - val_loss: 0.0159 - val_accuracy: 0.9783\n",
            "Epoch 39/100\n",
            "1875/1875 [==============================] - 8s 4ms/step - loss: 0.0116 - accuracy: 0.9871 - val_loss: 0.0157 - val_accuracy: 0.9786\n",
            "Epoch 40/100\n",
            "1875/1875 [==============================] - 8s 4ms/step - loss: 0.0113 - accuracy: 0.9876 - val_loss: 0.0158 - val_accuracy: 0.9784\n",
            "Epoch 41/100\n",
            "1875/1875 [==============================] - 8s 4ms/step - loss: 0.0111 - accuracy: 0.9882 - val_loss: 0.0155 - val_accuracy: 0.9792\n",
            "Epoch 42/100\n",
            "1875/1875 [==============================] - 9s 5ms/step - loss: 0.0108 - accuracy: 0.9883 - val_loss: 0.0155 - val_accuracy: 0.9790\n",
            "Epoch 43/100\n",
            "1875/1875 [==============================] - 8s 4ms/step - loss: 0.0106 - accuracy: 0.9886 - val_loss: 0.0154 - val_accuracy: 0.9790\n",
            "Epoch 44/100\n",
            "1875/1875 [==============================] - 8s 4ms/step - loss: 0.0104 - accuracy: 0.9889 - val_loss: 0.0152 - val_accuracy: 0.9791\n",
            "Epoch 45/100\n",
            "1875/1875 [==============================] - 8s 4ms/step - loss: 0.0102 - accuracy: 0.9890 - val_loss: 0.0150 - val_accuracy: 0.9792\n",
            "Epoch 46/100\n",
            "1875/1875 [==============================] - 9s 5ms/step - loss: 0.0100 - accuracy: 0.9898 - val_loss: 0.0151 - val_accuracy: 0.9798\n",
            "Epoch 47/100\n",
            "1875/1875 [==============================] - 8s 4ms/step - loss: 0.0098 - accuracy: 0.9899 - val_loss: 0.0149 - val_accuracy: 0.9799\n",
            "Epoch 48/100\n",
            "1875/1875 [==============================] - 9s 5ms/step - loss: 0.0096 - accuracy: 0.9902 - val_loss: 0.0147 - val_accuracy: 0.9801\n",
            "Epoch 49/100\n",
            "1875/1875 [==============================] - 8s 4ms/step - loss: 0.0094 - accuracy: 0.9905 - val_loss: 0.0148 - val_accuracy: 0.9801\n",
            "Epoch 50/100\n",
            "1875/1875 [==============================] - 8s 4ms/step - loss: 0.0092 - accuracy: 0.9907 - val_loss: 0.0146 - val_accuracy: 0.9804\n",
            "Epoch 51/100\n",
            "1875/1875 [==============================] - 7s 4ms/step - loss: 0.0090 - accuracy: 0.9912 - val_loss: 0.0145 - val_accuracy: 0.9801\n",
            "Epoch 52/100\n",
            "1875/1875 [==============================] - 8s 4ms/step - loss: 0.0089 - accuracy: 0.9913 - val_loss: 0.0144 - val_accuracy: 0.9811\n",
            "Epoch 53/100\n",
            "1875/1875 [==============================] - 8s 4ms/step - loss: 0.0087 - accuracy: 0.9914 - val_loss: 0.0144 - val_accuracy: 0.9802\n",
            "Epoch 54/100\n",
            "1875/1875 [==============================] - 7s 4ms/step - loss: 0.0085 - accuracy: 0.9918 - val_loss: 0.0145 - val_accuracy: 0.9809\n",
            "Epoch 55/100\n",
            "1875/1875 [==============================] - 8s 4ms/step - loss: 0.0084 - accuracy: 0.9919 - val_loss: 0.0142 - val_accuracy: 0.9812\n",
            "Epoch 56/100\n",
            "1875/1875 [==============================] - 8s 4ms/step - loss: 0.0082 - accuracy: 0.9922 - val_loss: 0.0141 - val_accuracy: 0.9815\n",
            "Epoch 57/100\n",
            "1875/1875 [==============================] - 9s 5ms/step - loss: 0.0081 - accuracy: 0.9923 - val_loss: 0.0140 - val_accuracy: 0.9810\n",
            "Epoch 58/100\n",
            "1875/1875 [==============================] - 8s 4ms/step - loss: 0.0079 - accuracy: 0.9926 - val_loss: 0.0141 - val_accuracy: 0.9816\n",
            "Epoch 59/100\n",
            "1875/1875 [==============================] - 9s 5ms/step - loss: 0.0078 - accuracy: 0.9929 - val_loss: 0.0139 - val_accuracy: 0.9818\n",
            "Epoch 60/100\n",
            "1875/1875 [==============================] - 8s 4ms/step - loss: 0.0077 - accuracy: 0.9930 - val_loss: 0.0138 - val_accuracy: 0.9815\n",
            "Epoch 61/100\n",
            "1875/1875 [==============================] - 8s 4ms/step - loss: 0.0075 - accuracy: 0.9932 - val_loss: 0.0139 - val_accuracy: 0.9816\n",
            "Epoch 62/100\n",
            "1875/1875 [==============================] - 8s 4ms/step - loss: 0.0074 - accuracy: 0.9936 - val_loss: 0.0138 - val_accuracy: 0.9812\n",
            "Epoch 63/100\n",
            "1875/1875 [==============================] - 8s 4ms/step - loss: 0.0073 - accuracy: 0.9936 - val_loss: 0.0137 - val_accuracy: 0.9814\n",
            "Epoch 64/100\n",
            "1875/1875 [==============================] - 8s 5ms/step - loss: 0.0071 - accuracy: 0.9937 - val_loss: 0.0137 - val_accuracy: 0.9816\n",
            "Epoch 65/100\n",
            "1875/1875 [==============================] - 8s 4ms/step - loss: 0.0070 - accuracy: 0.9941 - val_loss: 0.0136 - val_accuracy: 0.9821\n",
            "Epoch 66/100\n",
            "1875/1875 [==============================] - 8s 4ms/step - loss: 0.0069 - accuracy: 0.9941 - val_loss: 0.0136 - val_accuracy: 0.9820\n",
            "Epoch 67/100\n",
            "1875/1875 [==============================] - 8s 4ms/step - loss: 0.0068 - accuracy: 0.9942 - val_loss: 0.0136 - val_accuracy: 0.9821\n",
            "Epoch 68/100\n",
            "1875/1875 [==============================] - 8s 4ms/step - loss: 0.0067 - accuracy: 0.9942 - val_loss: 0.0135 - val_accuracy: 0.9824\n",
            "Epoch 69/100\n",
            "1875/1875 [==============================] - 8s 4ms/step - loss: 0.0066 - accuracy: 0.9945 - val_loss: 0.0136 - val_accuracy: 0.9820\n",
            "Epoch 70/100\n",
            "1875/1875 [==============================] - 10s 5ms/step - loss: 0.0065 - accuracy: 0.9948 - val_loss: 0.0134 - val_accuracy: 0.9824\n",
            "Epoch 71/100\n",
            "1875/1875 [==============================] - 8s 5ms/step - loss: 0.0063 - accuracy: 0.9947 - val_loss: 0.0133 - val_accuracy: 0.9826\n",
            "Epoch 72/100\n",
            "1875/1875 [==============================] - 8s 4ms/step - loss: 0.0062 - accuracy: 0.9949 - val_loss: 0.0134 - val_accuracy: 0.9824\n",
            "Epoch 73/100\n",
            "1875/1875 [==============================] - 8s 4ms/step - loss: 0.0061 - accuracy: 0.9952 - val_loss: 0.0134 - val_accuracy: 0.9823\n",
            "Epoch 74/100\n",
            "1875/1875 [==============================] - 8s 4ms/step - loss: 0.0060 - accuracy: 0.9953 - val_loss: 0.0133 - val_accuracy: 0.9824\n",
            "Epoch 75/100\n",
            "1875/1875 [==============================] - 8s 4ms/step - loss: 0.0059 - accuracy: 0.9953 - val_loss: 0.0134 - val_accuracy: 0.9821\n",
            "Epoch 76/100\n",
            "1875/1875 [==============================] - 8s 4ms/step - loss: 0.0058 - accuracy: 0.9955 - val_loss: 0.0132 - val_accuracy: 0.9820\n",
            "Epoch 77/100\n",
            "1875/1875 [==============================] - 8s 4ms/step - loss: 0.0058 - accuracy: 0.9955 - val_loss: 0.0132 - val_accuracy: 0.9824\n",
            "Epoch 78/100\n",
            "1875/1875 [==============================] - 8s 4ms/step - loss: 0.0057 - accuracy: 0.9957 - val_loss: 0.0132 - val_accuracy: 0.9822\n",
            "Epoch 79/100\n",
            "1875/1875 [==============================] - 9s 5ms/step - loss: 0.0056 - accuracy: 0.9960 - val_loss: 0.0132 - val_accuracy: 0.9822\n",
            "Epoch 80/100\n",
            "1875/1875 [==============================] - 9s 5ms/step - loss: 0.0055 - accuracy: 0.9959 - val_loss: 0.0131 - val_accuracy: 0.9823\n",
            "Epoch 81/100\n",
            "1875/1875 [==============================] - 9s 5ms/step - loss: 0.0054 - accuracy: 0.9962 - val_loss: 0.0131 - val_accuracy: 0.9824\n",
            "Epoch 82/100\n",
            "1875/1875 [==============================] - 8s 4ms/step - loss: 0.0053 - accuracy: 0.9961 - val_loss: 0.0132 - val_accuracy: 0.9826\n",
            "Epoch 83/100\n",
            "1875/1875 [==============================] - 8s 4ms/step - loss: 0.0052 - accuracy: 0.9962 - val_loss: 0.0132 - val_accuracy: 0.9823\n",
            "Epoch 84/100\n",
            "1875/1875 [==============================] - 8s 4ms/step - loss: 0.0052 - accuracy: 0.9963 - val_loss: 0.0131 - val_accuracy: 0.9819\n",
            "Epoch 85/100\n",
            "1875/1875 [==============================] - 8s 4ms/step - loss: 0.0051 - accuracy: 0.9965 - val_loss: 0.0131 - val_accuracy: 0.9824\n",
            "Epoch 86/100\n",
            "1875/1875 [==============================] - 8s 4ms/step - loss: 0.0050 - accuracy: 0.9964 - val_loss: 0.0130 - val_accuracy: 0.9824\n",
            "Epoch 87/100\n",
            "1875/1875 [==============================] - 8s 4ms/step - loss: 0.0049 - accuracy: 0.9966 - val_loss: 0.0130 - val_accuracy: 0.9826\n",
            "Epoch 88/100\n",
            "1875/1875 [==============================] - 8s 4ms/step - loss: 0.0049 - accuracy: 0.9968 - val_loss: 0.0131 - val_accuracy: 0.9829\n",
            "Epoch 89/100\n",
            "1875/1875 [==============================] - 8s 4ms/step - loss: 0.0048 - accuracy: 0.9967 - val_loss: 0.0129 - val_accuracy: 0.9826\n",
            "Epoch 90/100\n",
            "1875/1875 [==============================] - 8s 4ms/step - loss: 0.0047 - accuracy: 0.9969 - val_loss: 0.0129 - val_accuracy: 0.9826\n",
            "Epoch 91/100\n",
            "1875/1875 [==============================] - 8s 4ms/step - loss: 0.0046 - accuracy: 0.9971 - val_loss: 0.0130 - val_accuracy: 0.9827\n",
            "Epoch 92/100\n",
            "1875/1875 [==============================] - 9s 5ms/step - loss: 0.0046 - accuracy: 0.9970 - val_loss: 0.0129 - val_accuracy: 0.9828\n",
            "Epoch 93/100\n",
            "1875/1875 [==============================] - 8s 4ms/step - loss: 0.0045 - accuracy: 0.9973 - val_loss: 0.0129 - val_accuracy: 0.9827\n",
            "Epoch 94/100\n",
            "1875/1875 [==============================] - 8s 4ms/step - loss: 0.0044 - accuracy: 0.9972 - val_loss: 0.0129 - val_accuracy: 0.9826\n",
            "Epoch 95/100\n",
            "1875/1875 [==============================] - 8s 4ms/step - loss: 0.0044 - accuracy: 0.9973 - val_loss: 0.0129 - val_accuracy: 0.9831\n",
            "Epoch 96/100\n",
            "1875/1875 [==============================] - 8s 4ms/step - loss: 0.0043 - accuracy: 0.9974 - val_loss: 0.0129 - val_accuracy: 0.9833\n",
            "Epoch 97/100\n",
            "1875/1875 [==============================] - 8s 4ms/step - loss: 0.0042 - accuracy: 0.9976 - val_loss: 0.0129 - val_accuracy: 0.9826\n",
            "Epoch 98/100\n",
            "1875/1875 [==============================] - 8s 4ms/step - loss: 0.0042 - accuracy: 0.9977 - val_loss: 0.0129 - val_accuracy: 0.9829\n",
            "Epoch 99/100\n",
            "1875/1875 [==============================] - 8s 4ms/step - loss: 0.0041 - accuracy: 0.9976 - val_loss: 0.0129 - val_accuracy: 0.9825\n",
            "Epoch 100/100\n",
            "1875/1875 [==============================] - 9s 5ms/step - loss: 0.0041 - accuracy: 0.9977 - val_loss: 0.0129 - val_accuracy: 0.9828\n"
          ]
        }
      ]
    },
    {
      "cell_type": "code",
      "source": [
        "#EVALUATE THE MODEL\n",
        "\n",
        "train_accuracy = model.evaluate(x_train,\n",
        "                                y_train,\n",
        "                                verbose = 1)"
      ],
      "metadata": {
        "colab": {
          "base_uri": "https://localhost:8080/"
        },
        "id": "LnRVHG_56LDW",
        "outputId": "b9e4f295-36f9-4d16-ec15-3c0430e20323"
      },
      "execution_count": 8,
      "outputs": [
        {
          "output_type": "stream",
          "name": "stdout",
          "text": [
            "1875/1875 [==============================] - 5s 3ms/step - loss: 0.0039 - accuracy: 0.9979\n"
          ]
        }
      ]
    },
    {
      "cell_type": "code",
      "source": [
        "test_accuracy = model.evaluate(x_test,\n",
        "                               y_test,\n",
        "                               verbose=1)"
      ],
      "metadata": {
        "colab": {
          "base_uri": "https://localhost:8080/"
        },
        "id": "osd9oTMq6g7H",
        "outputId": "ab853cfa-75e7-42d5-a26b-3c81ea3e4566"
      },
      "execution_count": 9,
      "outputs": [
        {
          "output_type": "stream",
          "name": "stdout",
          "text": [
            "313/313 [==============================] - 1s 2ms/step - loss: 0.0129 - accuracy: 0.9828\n"
          ]
        }
      ]
    },
    {
      "cell_type": "code",
      "source": [
        "print(train_accuracy, test_accuracy)"
      ],
      "metadata": {
        "colab": {
          "base_uri": "https://localhost:8080/"
        },
        "id": "Zto4uwrG6xlu",
        "outputId": "ba395052-a688-4fdd-fb5d-f6c447ef0a2b"
      },
      "execution_count": 10,
      "outputs": [
        {
          "output_type": "stream",
          "name": "stdout",
          "text": [
            "[0.003935384098440409, 0.9978500008583069] [0.012885203585028648, 0.9828000068664551]\n"
          ]
        }
      ]
    },
    {
      "cell_type": "code",
      "source": [
        "#PLOT HISTORY\n",
        "\n",
        "plt.plot(history.history['accuracy'], label='train')\n",
        "plt.plot(history.history['val_accuracy'], label='test')\n",
        "plt.legend()\n",
        "plt.show()"
      ],
      "metadata": {
        "colab": {
          "base_uri": "https://localhost:8080/",
          "height": 265
        },
        "id": "z4w8f8RS65cJ",
        "outputId": "03a0dc42-20d1-44e5-ec5e-7f1b243bd6df"
      },
      "execution_count": 11,
      "outputs": [
        {
          "output_type": "display_data",
          "data": {
            "text/plain": [
              "<Figure size 432x288 with 1 Axes>"
            ],
            "image/png": "[encoded data removed]"
          },
          "metadata": {
            "needs_background": "light"
          }
        }
      ]
    },
    {
      "cell_type": "markdown",
      "source": [
        "# SGD with Batch Normalization"
      ],
      "metadata": {
        "id": "doQg2HkI-HNV"
      }
    },
    {
      "cell_type": "code",
      "source": [
        "import tensorflow as tf\n",
        "from tensorflow import keras\n",
        "from tensorflow.keras.datasets import mnist\n",
        "from tensorflow.keras.models import Sequential\n",
        "from tensorflow.keras.layers import Dense\n",
        "from tensorflow.keras.layers import BatchNormalization\n",
        "from tensorflow.keras.optimizers import SGD\n",
        "import matplotlib.pyplot as plt"
      ],
      "metadata": {
        "id": "ug7cxlo17jAF"
      },
      "execution_count": 21,
      "outputs": []
    },
    {
      "cell_type": "code",
      "source": [
        "(x_train, y_train), (x_test, y_test) = mnist.load_data()"
      ],
      "metadata": {
        "id": "rIzyYcAH-Sic"
      },
      "execution_count": 22,
      "outputs": []
    },
    {
      "cell_type": "code",
      "source": [
        "x_train = x_train.reshape(60000, 784)\n",
        "x_test = x_test.reshape(10000, 784)\n",
        "x_train = x_train.astype('float32')\n",
        "x_test = x_test.astype('float32')\n",
        "x_train = x_train/255\n",
        "x_test = x_test/255"
      ],
      "metadata": {
        "id": "XlXysq5a-nGC"
      },
      "execution_count": 23,
      "outputs": []
    },
    {
      "cell_type": "code",
      "source": [
        "batch_size =128\n",
        "num_classes = 10\n",
        "epochs = 100"
      ],
      "metadata": {
        "id": "w4kwh8F__Ef-"
      },
      "execution_count": 24,
      "outputs": []
    },
    {
      "cell_type": "code",
      "source": [
        "y_train = keras.utils.to_categorical(y_train, num_classes)\n",
        "\n",
        "y_test = keras.utils.to_categorical(y_test, num_classes )"
      ],
      "metadata": {
        "id": "KAkyB8ptSFnV"
      },
      "execution_count": 25,
      "outputs": []
    },
    {
      "cell_type": "code",
      "source": [
        "#DEFINE MODEL\n",
        "\n",
        "model = Sequential()\n",
        "\n",
        "model.add(Dense(50, \n",
        "                input_dim=784, \n",
        "                activation='relu', \n",
        "                kernel_initializer='he_uniform'))\n",
        "\n",
        "model.add(BatchNormalization())\n",
        "\n",
        "model.add(Dense(10,activation='sigmoid'))\n",
        "\n",
        "opt = SGD(lr=0.01, momentum=0.9)\n",
        "\n",
        "model.compile(loss='binary_crossentropy', \n",
        "              optimizer=opt, \n",
        "              metrics=['accuracy'])\n"
      ],
      "metadata": {
        "id": "9cjN_0Wa_b37"
      },
      "execution_count": 26,
      "outputs": []
    },
    {
      "cell_type": "code",
      "source": [
        "history = model.fit(x_train, \n",
        "                    y_train, \n",
        "                    validation_data=(x_test, \n",
        "                                     y_test), \n",
        "                    epochs=100, \n",
        "                    verbose=1)"
      ],
      "metadata": {
        "colab": {
          "base_uri": "https://localhost:8080/"
        },
        "id": "AISNQWKpAyc0",
        "outputId": "02404068-aa8a-4a4c-b352-f63c5ebe1319"
      },
      "execution_count": 27,
      "outputs": [
        {
          "output_type": "stream",
          "name": "stdout",
          "text": [
            "Epoch 1/100\n",
            "1875/1875 [==============================] - 5s 3ms/step - loss: 0.1243 - accuracy: 0.8592 - val_loss: 0.0579 - val_accuracy: 0.9261\n",
            "Epoch 2/100\n",
            "1875/1875 [==============================] - 4s 2ms/step - loss: 0.0561 - accuracy: 0.9236 - val_loss: 0.0419 - val_accuracy: 0.9424\n",
            "Epoch 3/100\n",
            "1875/1875 [==============================] - 4s 2ms/step - loss: 0.0449 - accuracy: 0.9387 - val_loss: 0.0362 - val_accuracy: 0.9485\n",
            "Epoch 4/100\n",
            "1875/1875 [==============================] - 4s 2ms/step - loss: 0.0391 - accuracy: 0.9467 - val_loss: 0.0327 - val_accuracy: 0.9527\n",
            "Epoch 5/100\n",
            "1875/1875 [==============================] - 4s 2ms/step - loss: 0.0352 - accuracy: 0.9524 - val_loss: 0.0295 - val_accuracy: 0.9593\n",
            "Epoch 6/100\n",
            "1875/1875 [==============================] - 4s 2ms/step - loss: 0.0328 - accuracy: 0.9563 - val_loss: 0.0284 - val_accuracy: 0.9601\n",
            "Epoch 7/100\n",
            "1875/1875 [==============================] - 5s 3ms/step - loss: 0.0307 - accuracy: 0.9590 - val_loss: 0.0276 - val_accuracy: 0.9609\n",
            "Epoch 8/100\n",
            "1875/1875 [==============================] - 4s 2ms/step - loss: 0.0287 - accuracy: 0.9622 - val_loss: 0.0256 - val_accuracy: 0.9636\n",
            "Epoch 9/100\n",
            "1875/1875 [==============================] - 4s 2ms/step - loss: 0.0274 - accuracy: 0.9634 - val_loss: 0.0260 - val_accuracy: 0.9624\n",
            "Epoch 10/100\n",
            "1875/1875 [==============================] - 4s 2ms/step - loss: 0.0262 - accuracy: 0.9658 - val_loss: 0.0248 - val_accuracy: 0.9652\n",
            "Epoch 11/100\n",
            "1875/1875 [==============================] - 4s 2ms/step - loss: 0.0254 - accuracy: 0.9666 - val_loss: 0.0257 - val_accuracy: 0.9637\n",
            "Epoch 12/100\n",
            "1875/1875 [==============================] - 4s 2ms/step - loss: 0.0242 - accuracy: 0.9681 - val_loss: 0.0243 - val_accuracy: 0.9655\n",
            "Epoch 13/100\n",
            "1875/1875 [==============================] - 4s 2ms/step - loss: 0.0233 - accuracy: 0.9705 - val_loss: 0.0240 - val_accuracy: 0.9658\n",
            "Epoch 14/100\n",
            "1875/1875 [==============================] - 4s 2ms/step - loss: 0.0228 - accuracy: 0.9705 - val_loss: 0.0226 - val_accuracy: 0.9681\n",
            "Epoch 15/100\n",
            "1875/1875 [==============================] - 4s 2ms/step - loss: 0.0221 - accuracy: 0.9716 - val_loss: 0.0227 - val_accuracy: 0.9684\n",
            "Epoch 16/100\n",
            "1875/1875 [==============================] - 4s 2ms/step - loss: 0.0218 - accuracy: 0.9717 - val_loss: 0.0231 - val_accuracy: 0.9681\n",
            "Epoch 17/100\n",
            "1875/1875 [==============================] - 4s 2ms/step - loss: 0.0209 - accuracy: 0.9730 - val_loss: 0.0230 - val_accuracy: 0.9685\n",
            "Epoch 18/100\n",
            "1875/1875 [==============================] - 4s 2ms/step - loss: 0.0204 - accuracy: 0.9742 - val_loss: 0.0216 - val_accuracy: 0.9686\n",
            "Epoch 19/100\n",
            "1875/1875 [==============================] - 4s 2ms/step - loss: 0.0201 - accuracy: 0.9740 - val_loss: 0.0231 - val_accuracy: 0.9684\n",
            "Epoch 20/100\n",
            "1875/1875 [==============================] - 4s 2ms/step - loss: 0.0194 - accuracy: 0.9758 - val_loss: 0.0223 - val_accuracy: 0.9677\n",
            "Epoch 21/100\n",
            "1875/1875 [==============================] - 4s 2ms/step - loss: 0.0193 - accuracy: 0.9755 - val_loss: 0.0233 - val_accuracy: 0.9672\n",
            "Epoch 22/100\n",
            "1875/1875 [==============================] - 4s 2ms/step - loss: 0.0192 - accuracy: 0.9750 - val_loss: 0.0216 - val_accuracy: 0.9704\n",
            "Epoch 23/100\n",
            "1875/1875 [==============================] - 4s 2ms/step - loss: 0.0184 - accuracy: 0.9769 - val_loss: 0.0215 - val_accuracy: 0.9696\n",
            "Epoch 24/100\n",
            "1875/1875 [==============================] - 4s 2ms/step - loss: 0.0185 - accuracy: 0.9766 - val_loss: 0.0227 - val_accuracy: 0.9686\n",
            "Epoch 25/100\n",
            "1875/1875 [==============================] - 4s 2ms/step - loss: 0.0177 - accuracy: 0.9783 - val_loss: 0.0219 - val_accuracy: 0.9689\n",
            "Epoch 26/100\n",
            "1875/1875 [==============================] - 4s 2ms/step - loss: 0.0177 - accuracy: 0.9781 - val_loss: 0.0228 - val_accuracy: 0.9682\n",
            "Epoch 27/100\n",
            "1875/1875 [==============================] - 4s 2ms/step - loss: 0.0172 - accuracy: 0.9792 - val_loss: 0.0218 - val_accuracy: 0.9708\n",
            "Epoch 28/100\n",
            "1875/1875 [==============================] - 4s 2ms/step - loss: 0.0172 - accuracy: 0.9789 - val_loss: 0.0212 - val_accuracy: 0.9711\n",
            "Epoch 29/100\n",
            "1875/1875 [==============================] - 4s 2ms/step - loss: 0.0167 - accuracy: 0.9806 - val_loss: 0.0218 - val_accuracy: 0.9708\n",
            "Epoch 30/100\n",
            "1875/1875 [==============================] - 4s 2ms/step - loss: 0.0166 - accuracy: 0.9799 - val_loss: 0.0219 - val_accuracy: 0.9685\n",
            "Epoch 31/100\n",
            "1875/1875 [==============================] - 4s 2ms/step - loss: 0.0161 - accuracy: 0.9802 - val_loss: 0.0214 - val_accuracy: 0.9719\n",
            "Epoch 32/100\n",
            "1875/1875 [==============================] - 4s 2ms/step - loss: 0.0165 - accuracy: 0.9801 - val_loss: 0.0218 - val_accuracy: 0.9714\n",
            "Epoch 33/100\n",
            "1875/1875 [==============================] - 4s 2ms/step - loss: 0.0161 - accuracy: 0.9805 - val_loss: 0.0215 - val_accuracy: 0.9711\n",
            "Epoch 34/100\n",
            "1875/1875 [==============================] - 4s 2ms/step - loss: 0.0161 - accuracy: 0.9805 - val_loss: 0.0214 - val_accuracy: 0.9717\n",
            "Epoch 35/100\n",
            "1875/1875 [==============================] - 4s 2ms/step - loss: 0.0158 - accuracy: 0.9812 - val_loss: 0.0222 - val_accuracy: 0.9700\n",
            "Epoch 36/100\n",
            "1875/1875 [==============================] - 4s 2ms/step - loss: 0.0158 - accuracy: 0.9814 - val_loss: 0.0211 - val_accuracy: 0.9707\n",
            "Epoch 37/100\n",
            "1875/1875 [==============================] - 4s 2ms/step - loss: 0.0152 - accuracy: 0.9826 - val_loss: 0.0222 - val_accuracy: 0.9702\n",
            "Epoch 38/100\n",
            "1875/1875 [==============================] - 4s 2ms/step - loss: 0.0154 - accuracy: 0.9817 - val_loss: 0.0215 - val_accuracy: 0.9698\n",
            "Epoch 39/100\n",
            "1875/1875 [==============================] - 4s 2ms/step - loss: 0.0147 - accuracy: 0.9827 - val_loss: 0.0214 - val_accuracy: 0.9714\n",
            "Epoch 40/100\n",
            "1875/1875 [==============================] - 4s 2ms/step - loss: 0.0148 - accuracy: 0.9828 - val_loss: 0.0223 - val_accuracy: 0.9707\n",
            "Epoch 41/100\n",
            "1875/1875 [==============================] - 4s 2ms/step - loss: 0.0145 - accuracy: 0.9839 - val_loss: 0.0214 - val_accuracy: 0.9724\n",
            "Epoch 42/100\n",
            "1875/1875 [==============================] - 4s 2ms/step - loss: 0.0148 - accuracy: 0.9827 - val_loss: 0.0216 - val_accuracy: 0.9701\n",
            "Epoch 43/100\n",
            "1875/1875 [==============================] - 4s 2ms/step - loss: 0.0145 - accuracy: 0.9834 - val_loss: 0.0228 - val_accuracy: 0.9700\n",
            "Epoch 44/100\n",
            "1875/1875 [==============================] - 4s 2ms/step - loss: 0.0141 - accuracy: 0.9834 - val_loss: 0.0219 - val_accuracy: 0.9701\n",
            "Epoch 45/100\n",
            "1875/1875 [==============================] - 4s 2ms/step - loss: 0.0142 - accuracy: 0.9845 - val_loss: 0.0222 - val_accuracy: 0.9695\n",
            "Epoch 46/100\n",
            "1875/1875 [==============================] - 4s 2ms/step - loss: 0.0143 - accuracy: 0.9834 - val_loss: 0.0226 - val_accuracy: 0.9686\n",
            "Epoch 47/100\n",
            "1875/1875 [==============================] - 4s 2ms/step - loss: 0.0140 - accuracy: 0.9842 - val_loss: 0.0213 - val_accuracy: 0.9711\n",
            "Epoch 48/100\n",
            "1875/1875 [==============================] - 4s 2ms/step - loss: 0.0141 - accuracy: 0.9840 - val_loss: 0.0223 - val_accuracy: 0.9711\n",
            "Epoch 49/100\n",
            "1875/1875 [==============================] - 4s 2ms/step - loss: 0.0140 - accuracy: 0.9840 - val_loss: 0.0223 - val_accuracy: 0.9725\n",
            "Epoch 50/100\n",
            "1875/1875 [==============================] - 4s 2ms/step - loss: 0.0136 - accuracy: 0.9846 - val_loss: 0.0215 - val_accuracy: 0.9726\n",
            "Epoch 51/100\n",
            "1875/1875 [==============================] - 4s 2ms/step - loss: 0.0133 - accuracy: 0.9851 - val_loss: 0.0217 - val_accuracy: 0.9715\n",
            "Epoch 52/100\n",
            "1875/1875 [==============================] - 4s 2ms/step - loss: 0.0136 - accuracy: 0.9847 - val_loss: 0.0224 - val_accuracy: 0.9717\n",
            "Epoch 53/100\n",
            "1875/1875 [==============================] - 4s 2ms/step - loss: 0.0134 - accuracy: 0.9849 - val_loss: 0.0218 - val_accuracy: 0.9719\n",
            "Epoch 54/100\n",
            "1875/1875 [==============================] - 4s 2ms/step - loss: 0.0129 - accuracy: 0.9855 - val_loss: 0.0217 - val_accuracy: 0.9717\n",
            "Epoch 55/100\n",
            "1875/1875 [==============================] - 4s 2ms/step - loss: 0.0129 - accuracy: 0.9855 - val_loss: 0.0225 - val_accuracy: 0.9712\n",
            "Epoch 56/100\n",
            "1875/1875 [==============================] - 4s 2ms/step - loss: 0.0127 - accuracy: 0.9861 - val_loss: 0.0219 - val_accuracy: 0.9714\n",
            "Epoch 57/100\n",
            "1875/1875 [==============================] - 4s 2ms/step - loss: 0.0130 - accuracy: 0.9857 - val_loss: 0.0213 - val_accuracy: 0.9732\n",
            "Epoch 58/100\n",
            "1875/1875 [==============================] - 4s 2ms/step - loss: 0.0127 - accuracy: 0.9858 - val_loss: 0.0215 - val_accuracy: 0.9729\n",
            "Epoch 59/100\n",
            "1875/1875 [==============================] - 4s 2ms/step - loss: 0.0125 - accuracy: 0.9869 - val_loss: 0.0214 - val_accuracy: 0.9721\n",
            "Epoch 60/100\n",
            "1875/1875 [==============================] - 4s 2ms/step - loss: 0.0125 - accuracy: 0.9868 - val_loss: 0.0217 - val_accuracy: 0.9727\n",
            "Epoch 61/100\n",
            "1875/1875 [==============================] - 4s 2ms/step - loss: 0.0126 - accuracy: 0.9864 - val_loss: 0.0214 - val_accuracy: 0.9738\n",
            "Epoch 62/100\n",
            "1875/1875 [==============================] - 4s 2ms/step - loss: 0.0123 - accuracy: 0.9868 - val_loss: 0.0230 - val_accuracy: 0.9696\n",
            "Epoch 63/100\n",
            "1875/1875 [==============================] - 4s 2ms/step - loss: 0.0125 - accuracy: 0.9865 - val_loss: 0.0215 - val_accuracy: 0.9729\n",
            "Epoch 64/100\n",
            "1875/1875 [==============================] - 4s 2ms/step - loss: 0.0120 - accuracy: 0.9877 - val_loss: 0.0222 - val_accuracy: 0.9715\n",
            "Epoch 65/100\n",
            "1875/1875 [==============================] - 4s 2ms/step - loss: 0.0121 - accuracy: 0.9873 - val_loss: 0.0224 - val_accuracy: 0.9713\n",
            "Epoch 66/100\n",
            "1875/1875 [==============================] - 4s 2ms/step - loss: 0.0119 - accuracy: 0.9876 - val_loss: 0.0228 - val_accuracy: 0.9711\n",
            "Epoch 67/100\n",
            "1875/1875 [==============================] - 4s 2ms/step - loss: 0.0118 - accuracy: 0.9877 - val_loss: 0.0225 - val_accuracy: 0.9708\n",
            "Epoch 68/100\n",
            "1875/1875 [==============================] - 4s 2ms/step - loss: 0.0118 - accuracy: 0.9872 - val_loss: 0.0228 - val_accuracy: 0.9736\n",
            "Epoch 69/100\n",
            "1875/1875 [==============================] - 4s 2ms/step - loss: 0.0119 - accuracy: 0.9872 - val_loss: 0.0220 - val_accuracy: 0.9721\n",
            "Epoch 70/100\n",
            "1875/1875 [==============================] - 4s 2ms/step - loss: 0.0121 - accuracy: 0.9865 - val_loss: 0.0230 - val_accuracy: 0.9711\n",
            "Epoch 71/100\n",
            "1875/1875 [==============================] - 4s 2ms/step - loss: 0.0118 - accuracy: 0.9879 - val_loss: 0.0229 - val_accuracy: 0.9712\n",
            "Epoch 72/100\n",
            "1875/1875 [==============================] - 4s 2ms/step - loss: 0.0116 - accuracy: 0.9877 - val_loss: 0.0220 - val_accuracy: 0.9716\n",
            "Epoch 73/100\n",
            "1875/1875 [==============================] - 4s 2ms/step - loss: 0.0112 - accuracy: 0.9880 - val_loss: 0.0223 - val_accuracy: 0.9730\n",
            "Epoch 74/100\n",
            "1875/1875 [==============================] - 4s 2ms/step - loss: 0.0112 - accuracy: 0.9884 - val_loss: 0.0226 - val_accuracy: 0.9719\n",
            "Epoch 75/100\n",
            "1875/1875 [==============================] - 4s 2ms/step - loss: 0.0115 - accuracy: 0.9876 - val_loss: 0.0228 - val_accuracy: 0.9719\n",
            "Epoch 76/100\n",
            "1875/1875 [==============================] - 4s 2ms/step - loss: 0.0117 - accuracy: 0.9881 - val_loss: 0.0232 - val_accuracy: 0.9707\n",
            "Epoch 77/100\n",
            "1875/1875 [==============================] - 4s 2ms/step - loss: 0.0112 - accuracy: 0.9881 - val_loss: 0.0227 - val_accuracy: 0.9721\n",
            "Epoch 78/100\n",
            "1875/1875 [==============================] - 4s 2ms/step - loss: 0.0112 - accuracy: 0.9883 - val_loss: 0.0232 - val_accuracy: 0.9709\n",
            "Epoch 79/100\n",
            "1875/1875 [==============================] - 4s 2ms/step - loss: 0.0111 - accuracy: 0.9887 - val_loss: 0.0229 - val_accuracy: 0.9720\n",
            "Epoch 80/100\n",
            "1875/1875 [==============================] - 4s 2ms/step - loss: 0.0108 - accuracy: 0.9890 - val_loss: 0.0238 - val_accuracy: 0.9702\n",
            "Epoch 81/100\n",
            "1875/1875 [==============================] - 4s 2ms/step - loss: 0.0107 - accuracy: 0.9894 - val_loss: 0.0225 - val_accuracy: 0.9721\n",
            "Epoch 82/100\n",
            "1875/1875 [==============================] - 4s 2ms/step - loss: 0.0111 - accuracy: 0.9886 - val_loss: 0.0238 - val_accuracy: 0.9711\n",
            "Epoch 83/100\n",
            "1875/1875 [==============================] - 4s 2ms/step - loss: 0.0110 - accuracy: 0.9883 - val_loss: 0.0229 - val_accuracy: 0.9707\n",
            "Epoch 84/100\n",
            "1875/1875 [==============================] - 4s 2ms/step - loss: 0.0105 - accuracy: 0.9893 - val_loss: 0.0239 - val_accuracy: 0.9705\n",
            "Epoch 85/100\n",
            "1875/1875 [==============================] - 4s 2ms/step - loss: 0.0106 - accuracy: 0.9896 - val_loss: 0.0225 - val_accuracy: 0.9724\n",
            "Epoch 86/100\n",
            "1875/1875 [==============================] - 4s 2ms/step - loss: 0.0110 - accuracy: 0.9887 - val_loss: 0.0236 - val_accuracy: 0.9713\n",
            "Epoch 87/100\n",
            "1875/1875 [==============================] - 4s 2ms/step - loss: 0.0101 - accuracy: 0.9897 - val_loss: 0.0239 - val_accuracy: 0.9709\n",
            "Epoch 88/100\n",
            "1875/1875 [==============================] - 4s 2ms/step - loss: 0.0106 - accuracy: 0.9889 - val_loss: 0.0231 - val_accuracy: 0.9728\n",
            "Epoch 89/100\n",
            "1875/1875 [==============================] - 4s 2ms/step - loss: 0.0104 - accuracy: 0.9895 - val_loss: 0.0230 - val_accuracy: 0.9725\n",
            "Epoch 90/100\n",
            "1875/1875 [==============================] - 4s 2ms/step - loss: 0.0102 - accuracy: 0.9898 - val_loss: 0.0224 - val_accuracy: 0.9733\n",
            "Epoch 91/100\n",
            "1875/1875 [==============================] - 4s 2ms/step - loss: 0.0103 - accuracy: 0.9898 - val_loss: 0.0227 - val_accuracy: 0.9728\n",
            "Epoch 92/100\n",
            "1875/1875 [==============================] - 4s 2ms/step - loss: 0.0104 - accuracy: 0.9898 - val_loss: 0.0236 - val_accuracy: 0.9721\n",
            "Epoch 93/100\n",
            "1875/1875 [==============================] - 4s 2ms/step - loss: 0.0102 - accuracy: 0.9894 - val_loss: 0.0231 - val_accuracy: 0.9719\n",
            "Epoch 94/100\n",
            "1875/1875 [==============================] - 4s 2ms/step - loss: 0.0100 - accuracy: 0.9900 - val_loss: 0.0230 - val_accuracy: 0.9726\n",
            "Epoch 95/100\n",
            "1875/1875 [==============================] - 4s 2ms/step - loss: 0.0101 - accuracy: 0.9894 - val_loss: 0.0234 - val_accuracy: 0.9711\n",
            "Epoch 96/100\n",
            "1875/1875 [==============================] - 4s 2ms/step - loss: 0.0099 - accuracy: 0.9902 - val_loss: 0.0230 - val_accuracy: 0.9736\n",
            "Epoch 97/100\n",
            "1875/1875 [==============================] - 4s 2ms/step - loss: 0.0101 - accuracy: 0.9902 - val_loss: 0.0232 - val_accuracy: 0.9729\n",
            "Epoch 98/100\n",
            "1875/1875 [==============================] - 4s 2ms/step - loss: 0.0099 - accuracy: 0.9902 - val_loss: 0.0230 - val_accuracy: 0.9727\n",
            "Epoch 99/100\n",
            "1875/1875 [==============================] - 4s 2ms/step - loss: 0.0102 - accuracy: 0.9898 - val_loss: 0.0235 - val_accuracy: 0.9726\n",
            "Epoch 100/100\n",
            "1875/1875 [==============================] - 4s 2ms/step - loss: 0.0100 - accuracy: 0.9897 - val_loss: 0.0244 - val_accuracy: 0.9713\n"
          ]
        }
      ]
    },
    {
      "cell_type": "code",
      "source": [
        "train_accuracy = model.evaluate(x_train, \n",
        "                                y_train, \n",
        "                                verbose=1)"
      ],
      "metadata": {
        "colab": {
          "base_uri": "https://localhost:8080/"
        },
        "id": "BNtV4I0jBPLr",
        "outputId": "d4c2a608-353f-48d7-c6a2-f156d1119a56"
      },
      "execution_count": 29,
      "outputs": [
        {
          "output_type": "stream",
          "name": "stdout",
          "text": [
            "1875/1875 [==============================] - 5s 2ms/step - loss: 0.0061 - accuracy: 0.9945\n"
          ]
        }
      ]
    },
    {
      "cell_type": "code",
      "source": [
        "test_accuracy = model.evaluate(x_test, \n",
        "                               y_test,\n",
        "                               verbose=1)"
      ],
      "metadata": {
        "colab": {
          "base_uri": "https://localhost:8080/"
        },
        "id": "bA1UGR24CfWl",
        "outputId": "3e4a28dd-2b39-446b-f604-b7553c31b23b"
      },
      "execution_count": 30,
      "outputs": [
        {
          "output_type": "stream",
          "name": "stdout",
          "text": [
            "313/313 [==============================] - 0s 1ms/step - loss: 0.0244 - accuracy: 0.9713\n"
          ]
        }
      ]
    },
    {
      "cell_type": "code",
      "source": [
        "print(train_accuracy, test_accuracy)"
      ],
      "metadata": {
        "colab": {
          "base_uri": "https://localhost:8080/"
        },
        "id": "dtNEsUVaCkfQ",
        "outputId": "f9f6edf5-1a06-4af2-b791-a5c0975c7e6b"
      },
      "execution_count": 31,
      "outputs": [
        {
          "output_type": "stream",
          "name": "stdout",
          "text": [
            "[0.0060762581415474415, 0.9944999814033508] [0.02442009560763836, 0.9713000059127808]\n"
          ]
        }
      ]
    },
    {
      "cell_type": "code",
      "source": [
        "plt.plot(history.history['accuracy'], label='train')\n",
        "plt.plot(history.history['val_accuracy'], label='test')\n",
        "plt.legend()\n",
        "plt.show()"
      ],
      "metadata": {
        "colab": {
          "base_uri": "https://localhost:8080/",
          "height": 265
        },
        "id": "KI3D5fo1Co2D",
        "outputId": "24204d5e-cc74-4ab3-e98e-7596f0d0b4ef"
      },
      "execution_count": 32,
      "outputs": [
        {
          "output_type": "display_data",
          "data": {
            "text/plain": [
              "<Figure size 432x288 with 1 Axes>"
            ],
            "image/png": "[encoded data removed]"
          },
          "metadata": {
            "needs_background": "light"
          }
        }
      ]
    },
    {
      "cell_type": "code",
      "source": [],
      "metadata": {
        "id": "LRNW3EVPCrq3"
      },
      "execution_count": 45,
      "outputs": []
    }
  ]
}